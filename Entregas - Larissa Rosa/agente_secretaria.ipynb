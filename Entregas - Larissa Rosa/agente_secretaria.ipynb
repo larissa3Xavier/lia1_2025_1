{
 "cells": [
  {
   "cell_type": "code",
   "execution_count": 1,
   "id": "80ca6dc4",
   "metadata": {},
   "outputs": [
    {
     "name": "stderr",
     "output_type": "stream",
     "text": [
      "c:\\Users\\Aluno\\Documents\\gemini\\.venv\\Lib\\site-packages\\tqdm\\auto.py:21: TqdmWarning: IProgress not found. Please update jupyter and ipywidgets. See https://ipywidgets.readthedocs.io/en/stable/user_install.html\n",
      "  from .autonotebook import tqdm as notebook_tqdm\n"
     ]
    }
   ],
   "source": [
    "from dotenv import load_dotenv\n",
    "import os\n",
    "import google.generativeai as genai"
   ]
  },
  {
   "cell_type": "code",
   "execution_count": 2,
   "id": "8c36db3c",
   "metadata": {},
   "outputs": [],
   "source": [
    "# Carregar variável de ambiente\n",
    "load_dotenv()\n",
    "genai.configure(api_key=os.getenv(\"GOOGLE_API_KEY\"))"
   ]
  },
  {
   "cell_type": "code",
   "execution_count": 3,
   "id": "74a7ad37",
   "metadata": {},
   "outputs": [
    {
     "name": "stdout",
     "output_type": "stream",
     "text": [
      "models/embedding-gecko-001\n",
      "models/gemini-1.0-pro-vision-latest\n",
      "models/gemini-pro-vision\n",
      "models/gemini-1.5-pro-latest\n",
      "models/gemini-1.5-pro-001\n",
      "models/gemini-1.5-pro-002\n",
      "models/gemini-1.5-pro\n",
      "models/gemini-1.5-flash-latest\n",
      "models/gemini-1.5-flash-001\n",
      "models/gemini-1.5-flash-001-tuning\n",
      "models/gemini-1.5-flash\n",
      "models/gemini-1.5-flash-002\n",
      "models/gemini-1.5-flash-8b\n",
      "models/gemini-1.5-flash-8b-001\n",
      "models/gemini-1.5-flash-8b-latest\n",
      "models/gemini-1.5-flash-8b-exp-0827\n",
      "models/gemini-1.5-flash-8b-exp-0924\n",
      "models/gemini-2.5-pro-exp-03-25\n",
      "models/gemini-2.5-pro-preview-03-25\n",
      "models/gemini-2.5-flash-preview-04-17\n",
      "models/gemini-2.5-flash-preview-05-20\n",
      "models/gemini-2.5-flash-preview-04-17-thinking\n",
      "models/gemini-2.5-pro-preview-05-06\n",
      "models/gemini-2.0-flash-exp\n",
      "models/gemini-2.0-flash\n",
      "models/gemini-2.0-flash-001\n",
      "models/gemini-2.0-flash-exp-image-generation\n",
      "models/gemini-2.0-flash-lite-001\n",
      "models/gemini-2.0-flash-lite\n",
      "models/gemini-2.0-flash-preview-image-generation\n",
      "models/gemini-2.0-flash-lite-preview-02-05\n",
      "models/gemini-2.0-flash-lite-preview\n",
      "models/gemini-2.0-pro-exp\n",
      "models/gemini-2.0-pro-exp-02-05\n",
      "models/gemini-exp-1206\n",
      "models/gemini-2.0-flash-thinking-exp-01-21\n",
      "models/gemini-2.0-flash-thinking-exp\n",
      "models/gemini-2.0-flash-thinking-exp-1219\n",
      "models/gemini-2.5-flash-preview-tts\n",
      "models/gemini-2.5-pro-preview-tts\n",
      "models/learnlm-2.0-flash-experimental\n",
      "models/gemma-3-1b-it\n",
      "models/gemma-3-4b-it\n",
      "models/gemma-3-12b-it\n",
      "models/gemma-3-27b-it\n",
      "models/gemma-3n-e4b-it\n",
      "models/embedding-001\n",
      "models/text-embedding-004\n",
      "models/gemini-embedding-exp-03-07\n",
      "models/gemini-embedding-exp\n",
      "models/aqa\n",
      "models/imagen-3.0-generate-002\n",
      "models/veo-2.0-generate-001\n",
      "models/gemini-2.5-flash-preview-native-audio-dialog\n",
      "models/gemini-2.5-flash-preview-native-audio-dialog-rai-v3\n",
      "models/gemini-2.5-flash-exp-native-audio-thinking-dialog\n",
      "models/gemini-2.0-flash-live-001\n"
     ]
    }
   ],
   "source": [
    "for model in genai.list_models():\n",
    "    print(model.name)"
   ]
  },
  {
   "cell_type": "code",
   "execution_count": 4,
   "id": "df79b0a8",
   "metadata": {},
   "outputs": [],
   "source": [
    "# Função para criar agentes simulando comportamentos\n",
    "def gerar_resposta_gemini(prompt):\n",
    "    model = genai.GenerativeModel(\"models/gemini-1.5-flash\")\n",
    "    response = model.generate_content(prompt)\n",
    "    return response.text.strip()"
   ]
  },
  {
   "cell_type": "code",
   "execution_count": 5,
   "id": "f96ee8c7",
   "metadata": {},
   "outputs": [],
   "source": [
    "# Agente: Planejador de Viagem\n",
    "def secretaria(solicitacoes):\n",
    "    prompt = f\"\"\"\n",
    "    Você é uma secretária, responsável por organizar a agenda do seu chefe. \n",
    "    Organize a logística de todas as reuniões solicitadas de acordo com local e duração, conferindo se não chocam horários, e observando:\n",
    "    - Local onde será a reunião \n",
    "    - Assunto principal\n",
    "    - Duração da reunião \n",
    "    - Departamento envolvido\n",
    "    Solicitações: {solicitacoes}\n",
    "    \"\"\"\n",
    "    return gerar_resposta_gemini(prompt)"
   ]
  },
  {
   "cell_type": "code",
   "execution_count": 8,
   "id": "b043ff38",
   "metadata": {},
   "outputs": [],
   "source": [
    "# Agente: Orçamentista\n",
    "def solicitante():\n",
    "    prompt = f\"\"\"\n",
    "    Crie reuniões com o gerente de projetos da empresa, pensando principalmente nos pontos:\n",
    "    - Onde deve ocorrer\n",
    "    - Duração da reubão\n",
    "    - Departamentos diferentes, que não sabem a agenda dos outros, então as reuiões devem chocar as vezes\n",
    "    \"\"\"\n",
    "    return gerar_resposta_gemini(prompt)"
   ]
  },
  {
   "cell_type": "code",
   "execution_count": 9,
   "id": "db87e638",
   "metadata": {},
   "outputs": [],
   "source": [
    "# Execução\n",
    "solicitacoes_reuniao = solicitante()\n",
    "agenda = secretaria(solicitacoes_reuniao)"
   ]
  },
  {
   "cell_type": "code",
   "execution_count": 10,
   "id": "f5b8f579",
   "metadata": {},
   "outputs": [
    {
     "name": "stdout",
     "output_type": "stream",
     "text": [
      "Solicitações de reunião: \n",
      "\n",
      "## Cenários de Reuniões com o Gerente de Projetos: Conflito de Agendas Garantido\n",
      "\n",
      "Aqui estão alguns cenários de reuniões com o gerente de projetos, projetados para maximizar as chances de conflitos de agenda, considerando que os departamentos não compartilham suas agendas:\n",
      "\n",
      "\n",
      "**Cenário 1: A Blitz da Manhã**\n",
      "\n",
      "* **Objetivo:** Maximizar as chances de sobreposição com outras reuniões matinais.\n",
      "* **Onde:** Sala de reuniões principal (a mais procurada).\n",
      "* **Duração:** 1 hora e 30 minutos (tempo suficiente para impactar várias agendas).\n",
      "* **Horário:** 9:00 AM - 10:30 AM (horário pico de reuniões matinais).\n",
      "* **Potencial de Conflito:** Alto.  A sala de reuniões principal é disputada, e 9h da manhã é horário de pico para a maioria das empresas.  É provável que pelo menos um membro de um outro departamento tenha uma reunião agendada nesse mesmo horário.\n",
      "\n",
      "**Cenário 2: A Reunião-Relâmpago do Meio-Dia**\n",
      "\n",
      "* **Objetivo:** Criar um conflito na hora do almoço.\n",
      "* **Onde:** Sala de reuniões pequena e informal (a menos procurada, mas que pode causar atrasos em outros compromissos).\n",
      "* **Duração:** 30 minutos.\n",
      "* **Horário:** 12:30 PM - 1:00 PM (hora do almoço, período em que as pessoas já estão em trânsito ou envolvidas em compromissos pessoais).\n",
      "* **Potencial de Conflito:** Médio a Alto.  A curta duração pode parecer menos impactante, mas mesmo assim vai afetar as agendas de quem esperava um almoço sem interrupções.  A localização inusitada pode também criar dificuldades.\n",
      "\n",
      "**Cenário 3:  O \"Surprise Meeting\" da Tarde**\n",
      "\n",
      "* **Objetivo:**  Criar um conflito com o fim do expediente.\n",
      "* **Onde:** Sala de reuniões improvisada (um espaço de trabalho compartilhado ou uma pequena sala de descanso).\n",
      "* **Duração:** 45 minutos.\n",
      "* **Horário:** 16:30 PM - 17:15 PM (próximo do fim do expediente, quando muitos já estão se preparando para ir embora).\n",
      "* **Potencial de Conflito:** Médio.  Há uma chance de membros de outros departamentos estarem se preparando para sair do trabalho. A mudança de local pode criar mais imprevistos.\n",
      "\n",
      "**Cenário 4: A Reunião \"Multi-Local\"**\n",
      "\n",
      "* **Objetivo:**  Criar um conflito por logística.\n",
      "* **Onde:** Três locais diferentes, sucessivamente, cada um em um departamento diferente. (Ex: sala de projetos, sala de marketing, sala de RH).\n",
      "* **Duração:** 1 hora total (20 minutos em cada local).\n",
      "* **Horário:** 11:00 AM - 12:00 PM\n",
      "* **Potencial de Conflito:** Alto.  A logística de se deslocar entre diferentes departamentos no meio de um dia de trabalho pode levar a atrasos e conflitos com outras reuniões.\n",
      "\n",
      "**Considerações importantes:**\n",
      "\n",
      "* **Comunicação:** Embora o objetivo seja o conflito, é crucial comunicar a necessidade da reunião com antecedência, mesmo que não seja possível coordenar com todas as agendas.\n",
      "* **Eficiência:** Embora o conflito seja desejado para este exercício, o objetivo final é a eficiência da equipe.  Utilizar esses cenários de forma repetitiva pode ser prejudicial para a produtividade.\n",
      "* **Ética profissional:** O objetivo deste exercício é simular uma situação problemática; não se deve aplicar essas táticas na realidade sem uma justificativa extremamente válida e comunicada de forma transparente.\n",
      "\n",
      "\n",
      "Estes cenários são apenas exemplos, e a melhor estratégia dependerá da estrutura específica da empresa e da dinâmica dos seus departamentos.  O objetivo é criar uma situação que force o gerente de projeto a lidar com a realidade dos conflitos de agendas e desenvolver estratégias para minimizá-los no futuro.\n"
     ]
    }
   ],
   "source": [
    "# Resultados\n",
    "print(\"Solicitações de reunião: \\n\")\n",
    "print(solicitacoes_reuniao)"
   ]
  },
  {
   "cell_type": "code",
   "execution_count": 11,
   "id": "a24d4926",
   "metadata": {},
   "outputs": [
    {
     "name": "stdout",
     "output_type": "stream",
     "text": [
      "\n",
      "Agenda organizada:\n",
      "\n",
      "Como secretária, minha função é organizar a agenda do gerente de projetos da forma mais eficiente possível, mesmo diante de desafios como os cenários apresentados.  Considerando a necessidade de simular conflitos para fins de treinamento, proponho a seguinte organização, focando na minimização do impacto negativo:\n",
      "\n",
      "**Proposta de Agendamento (Simulando Conflitos):**\n",
      "\n",
      "A estratégia aqui é agendar os cenários de forma a maximizar o potencial de conflito, mas também procurando minimizar o impacto global na produtividade.  A comunicação antecipada sobre as reuniões será fundamental para mitigar os problemas.\n",
      "\n",
      "**Dia X:**\n",
      "\n",
      "* **9:00 AM - 10:30 AM:** **Cenário 1: A Blitz da Manhã** - Sala de reuniões principal.  Assunto: Revisão de Cronograma Projeto Alfa. Departamento: Gerenciamento de Projetos. *Observação: Alto potencial de conflito devido ao horário e local.  Notificação antecipada a todos os envolvidos é crucial.*\n",
      "\n",
      "* **11:00 AM - 12:00 PM:** **Cenário 4: A Reunião \"Multi-Local\"** -  11:00-11:20: Sala de Projetos (Revisão com Equipe de Projetos); 11:20-11:40: Sala de Marketing (Apresentação de Resultados); 11:40-12:00: Sala de RH (Discussão de Recursos Humanos). Assunto: Feedback Projeto Beta. Departamentos: Gerenciamento de Projetos, Marketing, RH.  *Observação: Alto potencial de conflito devido à logística. Agendamento de transporte interno pode ser necessário para minimizar atrasos.*\n",
      "\n",
      "* **12:30 PM - 1:00 PM:** **Cenário 2: A Reunião-Relâmpago do Meio-Dia** - Sala de reuniões pequena e informal. Assunto:  Avaliação de Riscos Projeto Gama. Departamento: Gerenciamento de Projetos. *Observação: Médio a alto potencial de conflito, devido ao horário do almoço.  A antecipação é crucial para minimizar transtornos.*\n",
      "\n",
      "\n",
      "**Opção para o Cenário 3:** O Cenário 3 (\"Surprise Meeting\") será adiado.  Dado o baixo potencial de conflito em comparação aos outros e a possibilidade de imprevistos com uma sala improvisada, agendá-lo somente se houver disponibilidade de tempo após a resolução de conflitos dos cenários 1, 2 e 4. Isso permitirá uma melhor gestão dos imprevistos e uma avaliação mais precisa do impacto.  Se for necessário,  será comunicado que a reunião do final de expediente será remarcada para outro horário, em uma sala mais apropriada.\n",
      "\n",
      "\n",
      "**Plano de Contingência:**\n",
      "\n",
      "* **Comunicação proativa:**  Enviar convites com a máxima antecedência possível, detalhando a duração e o local de cada reunião.\n",
      "* **Flexibilidade:**  Estar preparada para reagendar partes das reuniões, se necessário, para minimizar o impacto nos outros departamentos.\n",
      "* **Registro de conflitos:** Documentar todos os conflitos de agenda que surgirem, para análise posterior e melhoria de planejamento futuro.\n",
      "\n",
      "\n",
      "Este plano de ação busca simular os conflitos de agenda de forma controlada, minimizando o impacto negativo na produtividade e oferecendo ao gerente de projetos um aprendizado valioso sobre gestão de tempo e resolução de problemas. A comunicação clara e proativa será a chave para o sucesso deste exercício.\n"
     ]
    }
   ],
   "source": [
    "print(\"\\nAgenda organizada:\\n\")\n",
    "print(agenda)"
   ]
  }
 ],
 "metadata": {
  "kernelspec": {
   "display_name": ".venv",
   "language": "python",
   "name": "python3"
  },
  "language_info": {
   "codemirror_mode": {
    "name": "ipython",
    "version": 3
   },
   "file_extension": ".py",
   "mimetype": "text/x-python",
   "name": "python",
   "nbconvert_exporter": "python",
   "pygments_lexer": "ipython3",
   "version": "3.11.9"
  }
 },
 "nbformat": 4,
 "nbformat_minor": 5
}
